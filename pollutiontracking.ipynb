{
 "cells": [
  {
   "cell_type": "code",
   "execution_count": null,
   "metadata": {},
   "outputs": [],
   "source": [
    "# Import relevant libraries\n",
    "import ee\n",
    "# Authenticate GEE and initialize\n",
    "try:\n",
    "    ee.Initialize()\n",
    "except Exception as e:\n",
    "    ee.Authenticate()\n",
    "    ee.Initialize()"
   ]
  },
  {
   "cell_type": "code",
   "execution_count": null,
   "metadata": {},
   "outputs": [],
   "source": [
    "# Import the boundaries of the region of interest\n",
    "delhi = ee.FeatureCollection(\"FAO/GAUL/2015/level1\") \\\n",
    "            .filter(ee.Filter.eq('ADM1_NAME','Delhi'))\n",
    "# Import the raster data on aerosol concentration and apply regional filters.\n",
    "# It vastly improves run time of the code by reducing the number of images in the collection.\n",
    "asol = ee.ImageCollection(\"MODIS/006/MCD19A2_GRANULES\")\\\n",
    "        .filterBounds(delhi)\\\n",
    "        .filterDate('2000-01-01', '2020-12-31');\n",
    "# Reduce the image data into a statistic for Delhi\n",
    "def reduce_del(img):\n",
    "    stat = img.reduceRegion(reducer=ee.Reducer.mean(), geometry=delhi, scale=1000).get('Optical_Depth_047')\n",
    "    date = img.date().format()\n",
    "    mydict = {'date': date, 'stat': stat}\n",
    "    return ee.Feature(None).set(mydict)\n",
    "# Convert ImageCollection into FeatureCollection and filter the FeatureCollection keeping only notNull values\n",
    "reduced_del = ee.FeatureCollection(asol.map(reduce_del)).filter(ee.Filter.notNull(['date','stat']))\n",
    "# Code for exporting Delhi AOD data to GDrive as a batch process.\n",
    "task = ee.batch.Export.table.toDrive(\n",
    "    collection = reduced_del,\n",
    "    description = 'aod_stat_del',\n",
    "    folder = 'satellite',\n",
    "    fileFormat = 'CSV',\n",
    "    selectors = ['date','stat']\n",
    ")\n",
    "task.start()\n"
   ]
  },
  {
   "cell_type": "code",
   "execution_count": null,
   "metadata": {},
   "outputs": [],
   "source": [
    "import pandas as pd\n",
    "import numpy as np\n",
    "import matplotlib.pyplot as plt\n",
    "from scipy import stats\n",
    "import matplotlib.pyplot as plt\n",
    "aerosoldf = pd.read_csv('C:\\\\Users\\\\ADMIN\\\\Desktop\\\\satellite\\\\geemap\\\\data\\\\aod_stat_del.csv')\n",
    "# Define a function to transform the dataframe into time series\n",
    "# Rescale AOD values from 0.001 to 1 by dividing the numbers by 1000.\n",
    "# Group the observations by day and take the average AOD value\n",
    "def tseries(df):\n",
    "    \n",
    "    df['date_formatted'] = pd.to_datetime(df['date']).dt.normalize()\n",
    "    \n",
    "    df.stat = df.stat/1000\n",
    "    \n",
    "    df = df.groupby('date_formatted').agg(mean_stat =    pd.NamedAgg(column = 'stat', aggfunc = 'mean'))\n",
    "    \n",
    "    return df\n",
    "aerosoldf = tseries(aerosoldf)\n",
    "# we create a figure with pyplot and set the dimensions to 15 x 7\n",
    "fig, ax = plt.subplots(figsize=(15,7))\n",
    "# we'll create the plot by setting our dataframe to the data argument\n",
    "ax.plot(aerosoldf.index, aerosoldf.mean_stat)\n",
    "# we'll set the labels and title\n",
    "ax.set_ylabel('aerosol optical depth',fontsize=20)\n",
    "ax.set_xlabel('date',fontsize=20)\n",
    "ax.set_title('Daily Aerosol Optical Depth Delhi (2000 - 2020)',fontsize=20);\n",
    "plt.show()\n"
   ]
  },
  {
   "cell_type": "code",
   "execution_count": null,
   "metadata": {},
   "outputs": [],
   "source": [
    "# Retrieve year information from date index\n",
    "aerosoldf['year'] = aerosoldf.index.year\n",
    "#Define AOD threshold as 1 \n",
    "aerosoldf['threshold'] = 1\n",
    "#Create a binary column which takes value 1 when AOD exceeds threshold and 0 otherwise\n",
    "aerosoldf['severe'] = np.where(aerosoldf['mean_stat'] > aerosoldf['threshold'], 1,0)\n",
    "#Group the observations and count the number of days having severe pollution in each year\n",
    "aerosol = aerosoldf.groupby('year').agg(obs_days = pd.NamedAgg(column = 'severe', aggfunc = 'count'),\n",
    "                                        severe_days = pd.NamedAgg(column = 'severe', aggfunc = 'sum'))\n",
    "# As the number of observed days are not uniform across years, we calculate the percentage of severe days and multiply by 365 to make it comparable across years\n",
    "aerosol['severe_days_annual'] = aerosol['severe_days'] / aerosol['obs_days'] * 365\n",
    "aerosol\n"
   ]
  },
  {
   "cell_type": "code",
   "execution_count": null,
   "metadata": {},
   "outputs": [],
   "source": [
    "# Function to find slope and intercept of trendline\n",
    "def trendline(df):\n",
    "    # get coeffs of linear fit\n",
    "    slope, intercept, r_value, p_value, std_err = stats.linregress(df.index,df['severe_days_annual'])\n",
    "    \n",
    "    pct = intercept + slope * df.index\n",
    "    return(pct)\n",
    "#Plot\n",
    "fig = plt.figure(figsize=(15,6))\n",
    "ax = fig.add_subplot(111)\n",
    "ax.plot(aerosol.index.astype(int), aerosol.severe_days_annual, linestyle=\"dashed\", marker = 'o')\n",
    "ax.plot(aerosol.index.astype(int), trendline(aerosol), color = 'red', marker='o')\n",
    "ax.set_xticks(range(2000,2021))\n",
    "# we'll set the labels and title\n",
    "ax.set_title('Number of days with severe aerosol concentration in Delhi',fontsize=20);\n",
    "plt.grid()\n",
    "plt.show()\n"
   ]
  },
  {
   "cell_type": "code",
   "execution_count": null,
   "metadata": {},
   "outputs": [],
   "source": []
  }
 ],
 "metadata": {
  "language_info": {
   "name": "python"
  },
  "orig_nbformat": 4
 },
 "nbformat": 4,
 "nbformat_minor": 2
}
